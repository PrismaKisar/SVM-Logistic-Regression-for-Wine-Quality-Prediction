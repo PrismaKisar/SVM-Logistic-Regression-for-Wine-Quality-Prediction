{
 "cells": [
  {
   "cell_type": "markdown",
   "id": "09ccf26d",
   "metadata": {},
   "source": [
    "# Data Exploration\n",
    "## Introduction\n",
    "This study presents a comprehensive exploratory data analysis of the Wine Quality datasets, which constitute the empirical foundation for the present investigation. The analysis encompasses both red and white wine variants from the Portuguese \"Vinho Verde\" collection, with the objective of elucidating the underlying patterns and physicochemical characteristics that determine wine quality assessments."
   ]
  },
  {
   "cell_type": "markdown",
   "id": "4e07649f",
   "metadata": {},
   "source": [
    "The analysis commences with the requisite library imports and the configuration of graphical parameters to ensure consistent, publication-standard visualizations throughout the investigative process."
   ]
  },
  {
   "cell_type": "code",
   "execution_count": null,
   "id": "acdb2795",
   "metadata": {},
   "outputs": [],
   "source": [
    "import pandas as pd\n",
    "import numpy as np\n",
    "import matplotlib.pyplot as plt\n",
    "import seaborn as sns\n",
    "\n",
    "COLOR_RED = \"#720026\"\n",
    "COLOR_WHITE = \"#DBDD46\""
   ]
  },
  {
   "cell_type": "markdown",
   "id": "f38f4346",
   "metadata": {},
   "source": [
    "The first dataset will be loaded and subjected to systematic examination of its constituent features, data types, and structural properties to establish a comprehensive understanding of the data architecture."
   ]
  },
  {
   "cell_type": "code",
   "execution_count": null,
   "id": "2160df69",
   "metadata": {},
   "outputs": [],
   "source": [
    "red_wine = pd.read_csv('../data/winequality-red.csv', sep=';')\n",
    "red_wine.head()"
   ]
  },
  {
   "cell_type": "markdown",
   "id": "9a3564c9",
   "metadata": {},
   "source": [
    "The second dataset will then be examined using the same analytical approach"
   ]
  },
  {
   "cell_type": "code",
   "execution_count": null,
   "id": "fcbabd07",
   "metadata": {},
   "outputs": [],
   "source": [
    "white_wine = pd.read_csv('../data/winequality-white.csv', sep=';')\n",
    "white_wine.head()"
   ]
  },
  {
   "cell_type": "markdown",
   "id": "644545fd",
   "metadata": {},
   "source": [
    "It's clear that we're working exclusively with *numerical* (float) data, and both datasets share **identical feature sets**."
   ]
  },
  {
   "cell_type": "markdown",
   "id": "3c05af64",
   "metadata": {},
   "source": [
    "We will now examine additional dataset characteristics, including sample size, and compare statistical measures such as mean, standard deviation, and median across both datasets."
   ]
  },
  {
   "cell_type": "code",
   "execution_count": null,
   "id": "622cd8f4",
   "metadata": {},
   "outputs": [],
   "source": [
    "red_wine.describe()"
   ]
  },
  {
   "cell_type": "markdown",
   "id": "bc594aac",
   "metadata": {},
   "source": [
    "And then with the second dataset."
   ]
  },
  {
   "cell_type": "code",
   "execution_count": null,
   "id": "91e28d57",
   "metadata": {},
   "outputs": [],
   "source": [
    "white_wine.describe()"
   ]
  },
  {
   "cell_type": "markdown",
   "id": "a45f9a67",
   "metadata": {},
   "source": [
    "The initial observation reveals a substantial imbalance between the datasets: the red wine dataset comprises 1,599 samples while the white wine dataset contains 4,898 samples, resulting in an inherently unbalanced combined dataset. Furthermore, the majority of features demonstrate distinct statistical properties (mean, standard deviation, and median) across the two wine types, indicating that wine color significantly influences physicochemical characteristics. Notably, alcohol content represents the sole feature exhibiting comparable statistical properties between both datasets."
   ]
  },
  {
   "cell_type": "markdown",
   "id": "b25bf3f7",
   "metadata": {},
   "source": [
    "Let's now examine the datasets for any inconsistencies or data quality issues."
   ]
  },
  {
   "cell_type": "code",
   "execution_count": null,
   "id": "63973241",
   "metadata": {},
   "outputs": [],
   "source": [
    "red_wine.isnull().sum()"
   ]
  },
  {
   "cell_type": "code",
   "execution_count": null,
   "id": "220bdd09",
   "metadata": {},
   "outputs": [],
   "source": [
    "white_wine.isnull().sum()"
   ]
  },
  {
   "cell_type": "markdown",
   "id": "95ac5eaa",
   "metadata": {},
   "source": [
    "Fortunately, there are no missing values in either dataset."
   ]
  }
 ],
 "metadata": {
  "language_info": {
   "name": "python"
  }
 },
 "nbformat": 4,
 "nbformat_minor": 5
}
