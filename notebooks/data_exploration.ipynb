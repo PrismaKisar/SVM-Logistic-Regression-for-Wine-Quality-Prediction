{
 "cells": [
  {
   "cell_type": "markdown",
   "id": "09ccf26d",
   "metadata": {},
   "source": [
    "# Data Exploration\n",
    "## Introduction\n",
    "This study presents a comprehensive exploratory data analysis of the Wine Quality datasets, which constitute the empirical foundation for the present investigation. The analysis encompasses both red and white wine variants from the Portuguese \"Vinho Verde\" collection, with the objective of elucidating the underlying patterns and physicochemical characteristics that determine wine quality assessments."
   ]
  },
  {
   "cell_type": "markdown",
   "id": "4e07649f",
   "metadata": {},
   "source": [
    "The analysis commences with the requisite library imports and the configuration of graphical parameters to ensure consistent, publication-standard visualizations throughout the investigative process."
   ]
  },
  {
   "cell_type": "code",
   "execution_count": null,
   "id": "acdb2795",
   "metadata": {},
   "outputs": [],
   "source": [
    "import pandas as pd\n",
    "import numpy as np\n",
    "import matplotlib.pyplot as plt\n",
    "import seaborn as sns\n",
    "\n",
    "COLOR_RED = \"#720026\"\n",
    "COLOR_WHITE = \"#DBDD46\""
   ]
  },
  {
   "cell_type": "markdown",
   "id": "f38f4346",
   "metadata": {},
   "source": [
    "The first dataset will be loaded and subjected to systematic examination of its constituent features, data types, and structural properties to establish a comprehensive understanding of the data architecture."
   ]
  },
  {
   "cell_type": "code",
   "execution_count": null,
   "id": "2160df69",
   "metadata": {},
   "outputs": [],
   "source": [
    "red_wine = pd.read_csv('../data/winequality-red.csv', sep=';')\n",
    "red_wine.head()"
   ]
  },
  {
   "cell_type": "markdown",
   "id": "9a3564c9",
   "metadata": {},
   "source": [
    "The second dataset will then be examined using the same analytical approach"
   ]
  },
  {
   "cell_type": "code",
   "execution_count": null,
   "id": "fcbabd07",
   "metadata": {},
   "outputs": [],
   "source": [
    "white_wine = pd.read_csv('../data/winequality-white.csv', sep=';')\n",
    "white_wine.head()"
   ]
  },
  {
   "cell_type": "markdown",
   "id": "644545fd",
   "metadata": {},
   "source": [
    "It's clear that we're working exclusively with *numerical* (float) data, and both datasets share **identical feature sets**."
   ]
  },
  {
   "cell_type": "markdown",
   "id": "3c05af64",
   "metadata": {},
   "source": [
    "We will now examine additional dataset characteristics, including sample size, and compare statistical measures such as mean, standard deviation, and median across both datasets."
   ]
  },
  {
   "cell_type": "code",
   "execution_count": null,
   "id": "622cd8f4",
   "metadata": {},
   "outputs": [],
   "source": [
    "red_wine.describe()"
   ]
  },
  {
   "cell_type": "markdown",
   "id": "bc594aac",
   "metadata": {},
   "source": [
    "And then with the second dataset."
   ]
  },
  {
   "cell_type": "code",
   "execution_count": null,
   "id": "91e28d57",
   "metadata": {},
   "outputs": [],
   "source": [
    "white_wine.describe()"
   ]
  },
  {
   "cell_type": "markdown",
   "id": "a45f9a67",
   "metadata": {},
   "source": [
    "The initial observation reveals a substantial imbalance between the datasets: the red wine dataset comprises 1,599 samples while the white wine dataset contains 4,898 samples, resulting in an inherently unbalanced combined dataset. Furthermore, the majority of features demonstrate distinct statistical properties (mean, standard deviation, and median) across the two wine types, indicating that wine color significantly influences physicochemical characteristics. Notably, alcohol content represents the sole feature exhibiting comparable statistical properties between both datasets."
   ]
  },
  {
   "cell_type": "markdown",
   "id": "b25bf3f7",
   "metadata": {},
   "source": [
    "Let's now examine the datasets for any inconsistencies or data quality issues."
   ]
  },
  {
   "cell_type": "code",
   "execution_count": null,
   "id": "63973241",
   "metadata": {},
   "outputs": [],
   "source": [
    "red_wine.isnull().sum()"
   ]
  },
  {
   "cell_type": "code",
   "execution_count": null,
   "id": "220bdd09",
   "metadata": {},
   "outputs": [],
   "source": [
    "white_wine.isnull().sum()"
   ]
  },
  {
   "cell_type": "markdown",
   "id": "95ac5eaa",
   "metadata": {},
   "source": [
    "Fortunately, there are no missing values in either dataset."
   ]
  },
  {
   "cell_type": "markdown",
   "id": "6fb9327f",
   "metadata": {},
   "source": [
    "To facilitate subsequent data manipulation procedures, the two datasets will be concatenated, with the concurrent implementation of an additional categorical variable to denote wine type/color classification."
   ]
  },
  {
   "cell_type": "code",
   "execution_count": null,
   "id": "2e7d89b7",
   "metadata": {},
   "outputs": [],
   "source": [
    "red_wine['wine_type'] = 'red'\n",
    "white_wine['wine_type'] = 'white'\n",
    "wine_data = pd.concat([red_wine, white_wine], axis=0, ignore_index=True)"
   ]
  },
  {
   "cell_type": "markdown",
   "id": "74cb2cd1",
   "metadata": {},
   "source": [
    "Subsequently, the distributions will be plotted to examine the underlying data patterns and distributional characteristics. To facilitate a more comprehensive comparison between the two datasets, quality values will be normalized and plotted as percentages to ensure an equitable comparative analysis."
   ]
  },
  {
   "cell_type": "code",
   "execution_count": null,
   "id": "d6faebb1",
   "metadata": {},
   "outputs": [],
   "source": [
    "red_quality_counts = red_wine['quality'].value_counts(normalize=True).sort_index() * 100\n",
    "white_quality_counts = white_wine['quality'].value_counts(normalize=True).sort_index() * 100\n",
    "\n",
    "all_quality_levels = sorted(set(red_quality_counts.index) | set(white_quality_counts.index))\n",
    "\n",
    "red_quality_aligned = red_quality_counts.reindex(all_quality_levels, fill_value=0)\n",
    "white_quality_aligned = white_quality_counts.reindex(all_quality_levels, fill_value=0)\n",
    "balanced_quality_counts = (red_quality_aligned + white_quality_aligned) / 2\n",
    "\n",
    "fig, ax = plt.subplots(figsize=(12, 6))\n",
    "\n",
    "width = 0.25\n",
    "x = all_quality_levels\n",
    "\n",
    "bars1 = ax.bar([i - width for i in x], red_quality_aligned.values, width, label='Red Wine', color=COLOR_RED, alpha=0.7, edgecolor='black')\n",
    "bars2 = ax.bar([i for i in x], white_quality_aligned.values, width, label='White Wine', color=COLOR_WHITE, alpha=0.7, edgecolor='black')\n",
    "bars3 = ax.bar([i + width for i in x], balanced_quality_counts.values, width, label='Balanced Average', color='gray', alpha=0.7, edgecolor='black')\n",
    "\n",
    "ax.set_title('Quality Distribution Comparison - Red vs White vs Balanced Average (%)')\n",
    "ax.set_xlabel('Quality')\n",
    "ax.set_ylabel('Percentage (%)')\n",
    "ax.legend()\n",
    "ax.grid(True, alpha=0.3)\n",
    "ax.set_xticks(x)\n",
    "\n",
    "plt.tight_layout()\n",
    "plt.show()"
   ]
  },
  {
   "cell_type": "markdown",
   "id": "4ba4179a",
   "metadata": {},
   "source": [
    "The analysis suggests that white wines exhibit superior overall quality ratings compared to red wines."
   ]
  },
  {
   "cell_type": "markdown",
   "id": "87142a8f",
   "metadata": {},
   "source": [
    "The quality variable will now be encoded into a new binary feature of *good* and *bad* quality according to the experimental specifications (≥6 constitutes good quality, <6 constitutes poor quality)."
   ]
  },
  {
   "cell_type": "code",
   "execution_count": null,
   "id": "14b8d432",
   "metadata": {},
   "outputs": [],
   "source": [
    "wine_data['quality_binary'] = (wine_data['quality'] >= 6).astype(int)\n",
    "red_wine['quality_binary'] = (red_wine['quality'] >= 6).astype(int)\n",
    "white_wine['quality_binary'] = (white_wine['quality'] >= 6).astype(int)"
   ]
  },
  {
   "cell_type": "markdown",
   "id": "0371c13a",
   "metadata": {},
   "source": [
    "And then let's plot with this classification."
   ]
  },
  {
   "cell_type": "code",
   "execution_count": null,
   "id": "a0888cbb",
   "metadata": {},
   "outputs": [],
   "source": [
    "def get_quality_percentages(data):\n",
    "    return (data['quality_binary'].value_counts().sort_index() / len(data)) * 100\n",
    "\n",
    "red_percentages = get_quality_percentages(red_wine)\n",
    "white_percentages = get_quality_percentages(white_wine)\n",
    "\n",
    "fig, ax = plt.subplots(figsize=(8, 6))\n",
    "\n",
    "width = 0.35\n",
    "x = [0, 1]  # 0: 'Bad' and 1: 'Good'\n",
    "\n",
    "bars1 = ax.bar([i - width/2 for i in x], red_percentages.values, width,label='Red Wine', color=COLOR_RED, alpha=0.7, edgecolor='black')\n",
    "bars2 = ax.bar([i + width/2 for i in x], white_percentages.values, width, label='White Wine', color=COLOR_WHITE, alpha=0.7, edgecolor='black')\n",
    "\n",
    "ax.set_title('Quality Distribution Comparison - Red vs White Wine')\n",
    "ax.set_xlabel('Wine Quality Category')\n",
    "ax.set_ylabel('Percentuale (%)')\n",
    "ax.set_xticks(x)\n",
    "ax.set_xticklabels(['Bad (< 6)', 'Good (≥ 6)'])\n",
    "ax.legend()\n",
    "ax.grid(True, alpha=0.3, axis='y')\n",
    "ax.set_ylim(0, 100)\n",
    "\n",
    "plt.tight_layout()\n",
    "plt.show()"
   ]
  },
  {
   "cell_type": "markdown",
   "id": "7fce16ab",
   "metadata": {},
   "source": [
    "Let's take a deep dive in the feature distribution comparison."
   ]
  },
  {
   "cell_type": "code",
   "execution_count": null,
   "id": "78b41589",
   "metadata": {},
   "outputs": [],
   "source": [
    "feature_cols = [col for col in wine_data.columns \n",
    "                if col not in ['quality', 'quality_binary', 'wine_type']]\n",
    "\n",
    "fig, axes = plt.subplots(4, 3, figsize=(15, 16))\n",
    "axes = axes.ravel()\n",
    "\n",
    "for i, col in enumerate(feature_cols):\n",
    "    axes[i].hist([red_wine[col], white_wine[col]], \n",
    "                   bins=30, alpha=0.7, label=['Red Wine', 'White Wine'],\n",
    "                   color=[COLOR_RED, COLOR_WHITE],\n",
    "                   edgecolor='black', density=True)\n",
    "    axes[i].set_title(f'Distribution: {col}')\n",
    "    axes[i].set_xlabel(col)\n",
    "    axes[i].set_ylabel('Density')\n",
    "    axes[i].legend()\n",
    "    axes[i].grid(True, alpha=0.3)\n",
    "\n",
    "plt.tight_layout()\n",
    "plt.show()"
   ]
  },
  {
   "cell_type": "markdown",
   "id": "80f79106",
   "metadata": {},
   "source": [
    "The analysis reveals substantial chemical differences between red and white wines. White wines are significantly sweeter and use nearly three times more sulfur dioxide preservatives. In contrast, red wines are more acidic across multiple measures, containing higher fixed acidity and volatile acidity levels, along with elevated chlorides, sulphates, and density.\n",
    "Red wines show lower variability across most chemical properties, suggesting more consistent production processes, while white wines demonstrate greater measurement variance. Alcohol content remains nearly identical between wine types, as noticed before. Many features exhibit asymmetric distributions as chlorides and sulphates."
   ]
  },
  {
   "cell_type": "markdown",
   "id": "7f0afd36",
   "metadata": {},
   "source": [
    "Boxplots will now be generated to identify potential outliers within the dataset."
   ]
  },
  {
   "cell_type": "code",
   "execution_count": null,
   "id": "ea72b1da",
   "metadata": {},
   "outputs": [],
   "source": [
    "fig, axes = plt.subplots(4, 3, figsize=(15, 16))\n",
    "axes = axes.ravel()\n",
    "\n",
    "for i, col in enumerate(feature_cols):\n",
    "    data_to_plot = [red_wine[col], white_wine[col]]\n",
    "    bp = axes[i].boxplot(data_to_plot, tick_labels=['Red Wine', 'White Wine'], patch_artist=True)\n",
    "    \n",
    "    colors = [COLOR_RED, COLOR_WHITE]\n",
    "    for patch, color in zip(bp['boxes'], colors):\n",
    "        patch.set_facecolor(color)\n",
    "    \n",
    "    axes[i].set_title(f'Box Plot: {col}')\n",
    "    axes[i].set_ylabel(col)\n",
    "    axes[i].grid(True, alpha=0.3)\n",
    "\n",
    "plt.tight_layout()\n",
    "plt.show()"
   ]
  },
  {
   "cell_type": "markdown",
   "id": "f752edbb",
   "metadata": {},
   "source": [
    "The analysis reveals the presence of numerous outliers across the majority of features, necessitating the development of appropriate outlier management strategies."
   ]
  }
 ],
 "metadata": {
  "language_info": {
   "name": "python"
  }
 },
 "nbformat": 4,
 "nbformat_minor": 5
}
