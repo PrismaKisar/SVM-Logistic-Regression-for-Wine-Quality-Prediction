{
 "cells": [
  {
   "cell_type": "markdown",
   "id": "09ccf26d",
   "metadata": {},
   "source": [
    "# Data Exploration\n",
    "## Introduction\n",
    "This study presents a comprehensive exploratory data analysis of the Wine Quality datasets, which constitute the empirical foundation for the present investigation. The analysis encompasses both red and white wine variants from the Portuguese \"Vinho Verde\" collection, with the objective of elucidating the underlying patterns and physicochemical characteristics that determine wine quality assessments."
   ]
  },
  {
   "cell_type": "markdown",
   "id": "4e07649f",
   "metadata": {},
   "source": [
    "The analysis commences with the requisite library imports and the configuration of graphical parameters to ensure consistent, publication-standard visualizations throughout the investigative process."
   ]
  },
  {
   "cell_type": "code",
   "execution_count": null,
   "id": "acdb2795",
   "metadata": {},
   "outputs": [],
   "source": [
    "import pandas as pd\n",
    "import numpy as np\n",
    "import matplotlib.pyplot as plt\n",
    "import seaborn as sns\n",
    "\n",
    "COLOR_RED = \"#720026\"\n",
    "COLOR_WHITE = \"#DBDD46\""
   ]
  },
  {
   "cell_type": "markdown",
   "id": "f38f4346",
   "metadata": {},
   "source": [
    "The first dataset will be loaded and subjected to systematic examination of its constituent features, data types, and structural properties to establish a comprehensive understanding of the data architecture."
   ]
  },
  {
   "cell_type": "code",
   "execution_count": null,
   "id": "2160df69",
   "metadata": {},
   "outputs": [],
   "source": [
    "red_wine = pd.read_csv('../data/winequality-red.csv', sep=';')\n",
    "red_wine.head()"
   ]
  },
  {
   "cell_type": "markdown",
   "id": "9a3564c9",
   "metadata": {},
   "source": [
    "The second dataset will then be examined using the same analytical approach"
   ]
  },
  {
   "cell_type": "code",
   "execution_count": null,
   "id": "fcbabd07",
   "metadata": {},
   "outputs": [],
   "source": [
    "white_wine = pd.read_csv('../data/winequality-white.csv', sep=';')\n",
    "white_wine.head()"
   ]
  }
 ],
 "metadata": {
  "language_info": {
   "name": "python"
  }
 },
 "nbformat": 4,
 "nbformat_minor": 5
}
