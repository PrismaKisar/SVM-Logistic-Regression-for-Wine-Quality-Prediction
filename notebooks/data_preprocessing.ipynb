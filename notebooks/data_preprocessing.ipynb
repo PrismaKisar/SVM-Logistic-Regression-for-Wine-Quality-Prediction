{
 "cells": [
  {
   "cell_type": "markdown",
   "id": "dd4828a0",
   "metadata": {},
   "source": [
    "# Data Preprocessing"
   ]
  },
  {
   "cell_type": "markdown",
   "id": "bf18d0fb",
   "metadata": {},
   "source": [
    "## Introduction\n",
    "This document presents the data preprocessing procedures designed to optimize model performance and maximize predictive capability. The analysis begins with the requisite library imports."
   ]
  },
  {
   "cell_type": "code",
   "execution_count": null,
   "id": "8bc8a1dd",
   "metadata": {},
   "outputs": [],
   "source": [
    "import pandas as pd\n",
    "import numpy as np\n",
    "import sys\n",
    "from pathlib import Path\n",
    "\n",
    "project_root = Path.cwd()\n",
    "while not (project_root / \"src\").exists():\n",
    "    project_root = project_root.parent\n",
    "\n",
    "sys.path.append(str(project_root / \"src\"))\n",
    "\n",
    "RANDOM_STATE = 42"
   ]
  },
  {
   "cell_type": "markdown",
   "id": "e62084ad",
   "metadata": {},
   "source": [
    "## Encoding"
   ]
  },
  {
   "cell_type": "markdown",
   "id": "94a6a25b",
   "metadata": {},
   "source": [
    "Initially, non-numeric columns such as wine type must be encoded appropriately."
   ]
  },
  {
   "cell_type": "code",
   "execution_count": null,
   "id": "10dd4329",
   "metadata": {},
   "outputs": [],
   "source": [
    "red_wine = pd.read_csv('../data/raw/winequality-red.csv', sep=';')\n",
    "white_wine = pd.read_csv('../data/raw/winequality-white.csv', sep=';')\n",
    "\n",
    "red_wine['wine type'] = 0\n",
    "white_wine['wine type'] = 1\n",
    "wine_data = pd.concat([red_wine, white_wine], axis=0, ignore_index=True)\n",
    "\n",
    "X = wine_data.drop(columns='quality')\n",
    "y = wine_data['quality']"
   ]
  },
  {
   "cell_type": "markdown",
   "id": "25830c27",
   "metadata": {},
   "source": [
    "## Data Splitting\n",
    "The data must then be partitioned into training and testing sets to prevent issues such as data leakage."
   ]
  },
  {
   "cell_type": "code",
   "execution_count": null,
   "id": "15ca5ecf",
   "metadata": {},
   "outputs": [],
   "source": [
    "from util import split_train_test\n",
    "\n",
    "X_train, X_test, y_train, y_test = split_train_test(X, y, random_state=RANDOM_STATE, stratify=y)"
   ]
  },
  {
   "cell_type": "markdown",
   "id": "16ccb0d1",
   "metadata": {},
   "source": [
    "## Feature Engineering\n",
    "Based on the correlations identified during exploratory analysis, four features will be addressed: *free sulfur dioxide*, *total sulfur dioxide*, *density*, and *alcohol*. The first pair exhibits a correlation of 0.72, and a potentially effective solution involves creating a unified feature by calculating the ratio of free sulfur dioxide to total sulfur dioxide."
   ]
  },
  {
   "cell_type": "code",
   "execution_count": null,
   "id": "b8316f0a",
   "metadata": {},
   "outputs": [],
   "source": [
    "X_train['free sulfur dioxide ratio'] = X_train['free sulfur dioxide'] / X_train['total sulfur dioxide']\n",
    "X_train = X_train.drop(columns=['total sulfur dioxide', 'free sulfur dioxide'])\n",
    "\n",
    "X_test['free sulfur dioxide ratio'] = X_test['free sulfur dioxide'] / X_test['total sulfur dioxide']\n",
    "X_test = X_test.drop(columns=['total sulfur dioxide', 'free sulfur dioxide'])"
   ]
  },
  {
   "cell_type": "markdown",
   "id": "27da3ccc",
   "metadata": {},
   "source": [
    "For the second pair this should not be a significant issue; therefore, the current configuration will be maintained."
   ]
  },
  {
   "cell_type": "code",
   "execution_count": null,
   "id": "e2fe2987",
   "metadata": {},
   "outputs": [],
   "source": [
    "from util import plot_correlation_matrix \n",
    "\n",
    "plot_correlation_matrix(X_train, 0.6)"
   ]
  },
  {
   "cell_type": "markdown",
   "id": "79c3d2b4",
   "metadata": {},
   "source": [
    "A new feature pair has emerged, however, this configuration may prove beneficial in this context; therefore, no modifications will be implemented."
   ]
  },
  {
   "cell_type": "markdown",
   "id": "717ba407",
   "metadata": {},
   "source": [
    "## Scaling"
   ]
  },
  {
   "cell_type": "markdown",
   "id": "7b2cd316",
   "metadata": {},
   "source": [
    "To facilitate model optimization, the data will be standardized using standard scaling techniques."
   ]
  },
  {
   "cell_type": "code",
   "execution_count": null,
   "id": "7deb4764",
   "metadata": {},
   "outputs": [],
   "source": [
    "from util import StandardScaler\n",
    "\n",
    "standard_scaler = StandardScaler()\n",
    "X_train = standard_scaler.fit_transform(X_train)\n",
    "X_test = standard_scaler.transform(X_test)"
   ]
  },
  {
   "cell_type": "markdown",
   "id": "854e4aca",
   "metadata": {},
   "source": [
    "## Export"
   ]
  },
  {
   "cell_type": "code",
   "execution_count": null,
   "id": "ea102257",
   "metadata": {},
   "outputs": [],
   "source": [
    "X_train.to_csv('../data/processed/X_train.csv', index=False)\n",
    "y_train.to_csv('../data/processed/y_train.csv', index=False)\n",
    "X_test.to_csv('../data/processed/X_test.csv', index=False)\n",
    "y_test.to_csv('../data/processed/y_test.csv', index=False)"
   ]
  }
 ],
 "metadata": {
  "kernelspec": {
   "display_name": ".venv",
   "language": "python",
   "name": "python3"
  },
  "language_info": {
   "codemirror_mode": {
    "name": "ipython",
    "version": 3
   },
   "file_extension": ".py",
   "mimetype": "text/x-python",
   "name": "python",
   "nbconvert_exporter": "python",
   "pygments_lexer": "ipython3",
   "version": "3.13.3"
  }
 },
 "nbformat": 4,
 "nbformat_minor": 5
}
