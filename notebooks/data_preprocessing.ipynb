{
 "cells": [
  {
   "cell_type": "markdown",
   "id": "dd4828a0",
   "metadata": {},
   "source": [
    "# Data Preprocessing"
   ]
  },
  {
   "cell_type": "markdown",
   "id": "bf18d0fb",
   "metadata": {},
   "source": [
    "## Introduction\n",
    "This document presents the data preprocessing procedures designed to optimize model performance and maximize predictive capability. The analysis begins with the requisite library imports."
   ]
  },
  {
   "cell_type": "code",
   "execution_count": 2,
   "id": "8bc8a1dd",
   "metadata": {},
   "outputs": [],
   "source": [
    "import pandas as pd\n",
    "import numpy as np"
   ]
  },
  {
   "cell_type": "markdown",
   "id": "25830c27",
   "metadata": {},
   "source": [
    "## Data Splitting\n",
    "Initially, prior to any preprocessing procedures, the data must be partitioned into training and testing sets to prevent issues such as data leakage."
   ]
  },
  {
   "cell_type": "code",
   "execution_count": 12,
   "id": "15ca5ecf",
   "metadata": {},
   "outputs": [],
   "source": [
    "red_wine = pd.read_csv('../data/winequality-red.csv', sep=';')\n",
    "white_wine = pd.read_csv('../data/winequality-white.csv', sep=';')\n",
    "\n",
    "red_wine['wine_type'] = 'red'\n",
    "white_wine['wine_type'] = 'white'\n",
    "wine_data = pd.concat([red_wine, white_wine], axis=0, ignore_index=True)\n",
    "\n",
    "X = wine_data.drop(columns='quality')\n",
    "y = wine_data['quality']\n",
    "\n",
    "\n",
    "def split_train_test(X, y, test_size=0.2, random_state=None, stratify=None):\n",
    "\n",
    "    if random_state is not None:\n",
    "        np.random.seed(random_state)\n",
    "    \n",
    "    n_samples = len(X)\n",
    "    n_test = int(n_samples * test_size)\n",
    "\n",
    "    if stratify is not None:\n",
    "        indices_train = []\n",
    "        indices_test = []\n",
    "        \n",
    "        for class_val in np.unique(stratify):\n",
    "            class_indices = np.where(stratify == class_val)[0]\n",
    "            n_class_test = int(len(class_indices) * test_size)\n",
    "            \n",
    "            np.random.shuffle(class_indices)\n",
    "            \n",
    "            indices_test.extend(class_indices[:n_class_test])\n",
    "            indices_train.extend(class_indices[n_class_test:])\n",
    "        \n",
    "        train_idx = np.array(indices_train)\n",
    "        test_idx = np.array(indices_test)\n",
    "        \n",
    "    else:\n",
    "        indices = np.arange(n_samples)\n",
    "        np.random.shuffle(indices)\n",
    "        \n",
    "        test_idx = indices[:n_test]\n",
    "        train_idx = indices[n_test:]\n",
    "\n",
    "    return X.iloc[train_idx], X.iloc[test_idx], y.iloc[train_idx], y.iloc[test_idx]\n",
    "\n",
    "\n",
    "X_train, X_test, y_train, y_test = split_train_test(X, y, random_state=42, stratify=y)\n",
    "X_test.to_csv('../data/X_test.csv')\n",
    "y_test.to_csv('../data/y_test.csv')"
   ]
  }
 ],
 "metadata": {
  "kernelspec": {
   "display_name": ".venv",
   "language": "python",
   "name": "python3"
  },
  "language_info": {
   "codemirror_mode": {
    "name": "ipython",
    "version": 3
   },
   "file_extension": ".py",
   "mimetype": "text/x-python",
   "name": "python",
   "nbconvert_exporter": "python",
   "pygments_lexer": "ipython3",
   "version": "3.13.3"
  }
 },
 "nbformat": 4,
 "nbformat_minor": 5
}
