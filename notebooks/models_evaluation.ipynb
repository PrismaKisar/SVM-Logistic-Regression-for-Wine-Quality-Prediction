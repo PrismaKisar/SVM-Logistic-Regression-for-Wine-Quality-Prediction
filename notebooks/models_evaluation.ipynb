{
 "cells": [
  {
   "cell_type": "markdown",
   "id": "fb260a86",
   "metadata": {},
   "source": [
    "# Models Evaluation"
   ]
  },
  {
   "cell_type": "markdown",
   "id": "bbf384cf",
   "metadata": {},
   "source": [
    "## Introduction\n",
    "In this notebook, optimal hyperparameters will be selected and the performance of both models will be evaluated."
   ]
  },
  {
   "cell_type": "markdown",
   "id": "fbd80834",
   "metadata": {},
   "source": [
    "### Imports\n",
    "The analysis commences with the necessary imports."
   ]
  },
  {
   "cell_type": "code",
   "execution_count": null,
   "id": "c1dbccc1",
   "metadata": {},
   "outputs": [],
   "source": [
    "import os\n",
    "import pandas as pd\n",
    "import numpy as np\n",
    "\n",
    "import sys\n",
    "from pathlib import Path\n",
    "\n",
    "project_root = Path.cwd()\n",
    "while not (project_root / \"src\").exists():\n",
    "    project_root = project_root.parent\n",
    "\n",
    "sys.path.append(str(project_root / \"src\"))\n",
    "\n",
    "from model_selection import grid_search_cv\n",
    "from models import SVM, LogisticRegression"
   ]
  },
  {
   "cell_type": "markdown",
   "id": "0e8d7df4",
   "metadata": {},
   "source": [
    "### Data Loading\n",
    "The data will be loaded."
   ]
  },
  {
   "cell_type": "code",
   "execution_count": null,
   "id": "ac528db7",
   "metadata": {},
   "outputs": [],
   "source": [
    "X_train_df = pd.read_csv('../data/processed/X_train.csv')\n",
    "y_train_df = pd.read_csv('../data/processed/y_train.csv')\n",
    "X_test_df = pd.read_csv('../data/processed/X_test.csv')\n",
    "y_test_df = pd.read_csv('../data/processed/y_test.csv')\n",
    "\n",
    "y_train = np.where(y_train_df['quality'] >= 6, 1, -1)\n",
    "y_test = np.where(y_test_df['quality'] >= 6, 1, -1)\n",
    "\n",
    "X_train = X_train_df.to_numpy()\n",
    "X_test = X_test_df.to_numpy()"
   ]
  },
  {
   "cell_type": "markdown",
   "id": "72c97e23",
   "metadata": {},
   "source": [
    "## Hyperparameter Tuning\n",
    "To identify optimal hyperparameters, multiple rounds of grid search are required to thoroughly explore all possible parameter combinations."
   ]
  },
  {
   "cell_type": "markdown",
   "id": "9635426a",
   "metadata": {},
   "source": [
    "### SVM\n",
    "For SVMs, two primary parameters require optimization: the number of iterations (*n_iters*) and the regularization parameter lambda (*lambda_param*). Typically, the number of folds ranges between 5 to 10; however, given our computational capacity, we can extend this to 100 folds without exceeding three minutes of processing time, thereby approximating Leave-One-Out validation and achieving a more robust validation framework."
   ]
  },
  {
   "cell_type": "code",
   "execution_count": null,
   "id": "97d7e511",
   "metadata": {},
   "outputs": [],
   "source": [
    "svm_param_grid = {\n",
    "        'n_iters': [1000, 2000, 3000, 4000, 5000, 6000],\n",
    "        'lambda_param' : [1, 1e-1, 1e-2, 1e-3, 1e-4, 1e-5, 1e-6]\n",
    "    }\n",
    "\n",
    "svm_best_params, svm_best_metrics = grid_search_cv(SVM, svm_param_grid, X_train, y_train, 100)\n",
    "print(f'SVM best parameter: {svm_best_params}')\n",
    "print(f'SVM best metrics: {svm_best_metrics}')"
   ]
  },
  {
   "cell_type": "markdown",
   "id": "7c084452",
   "metadata": {},
   "source": [
    "The optimal hyperparameters identified are *n_iters: 5000* and *lambda_param: 0.1*. A refined search will now be conducted within the neighborhood of these parameters."
   ]
  },
  {
   "cell_type": "code",
   "execution_count": null,
   "id": "665fd6c0",
   "metadata": {},
   "outputs": [],
   "source": [
    "svm_param_grid = {\n",
    "        'n_iters': [4500, 4750, 5000, 5250, 5500],\n",
    "        'lambda_param' : [5e-1, 3e-1, 1e-1, 9e-2, 7e-2]\n",
    "    }\n",
    "\n",
    "svm_best_params, svm_best_metrics = grid_search_cv(SVM, svm_param_grid, X_train, y_train, 100)\n",
    "print(f'SVM best parameter: {svm_best_params}')\n",
    "print(f'SVM best metrics: {svm_best_metrics}')"
   ]
  },
  {
   "cell_type": "markdown",
   "id": "4cc7d65e",
   "metadata": {},
   "source": [
    "Due to time constraints, the hyperparameters are manually assigned to variables; however, the grid search procedure remains fully reproducible."
   ]
  },
  {
   "cell_type": "code",
   "execution_count": null,
   "id": "ac16b230",
   "metadata": {},
   "outputs": [],
   "source": [
    "svm_n_iters = 5000\n",
    "svm_lambda_param = 1e-7"
   ]
  },
  {
   "cell_type": "markdown",
   "id": "5a1bf5da",
   "metadata": {},
   "source": [
    "### Logistic Regression\n",
    "As with SVMs, the parameters include n_iters and lambda_param, however, this model additionally incorporates the learning rate parameter (*learning_rate*). Unlike SVMs, this implementation exhibits significantly lower computational efficiency, necessitating the use of a more modest number of folds and a more judicious hyperparameter search approach rather than brute force methods. The initial step involves establishing the appropriate orders of magnitude."
   ]
  },
  {
   "cell_type": "code",
   "execution_count": null,
   "id": "60341c66",
   "metadata": {},
   "outputs": [],
   "source": [
    "lr_param_grid = {\n",
    "        'n_iters': [10, 100, 300],\n",
    "        'lambda_param' : [1e-1, 1e-3],\n",
    "        'learning_rate' : [1e-1, 1e-3]\n",
    "    }\n",
    "\n",
    "lr_best_params, lr_best_metrics = grid_search_cv(LogisticRegression, lr_param_grid, X_train, y_train, 5)\n",
    "print(f'Logistic Regression best parameter: {lr_best_params}')\n",
    "print(f'Logistic Regression best metrics: {lr_best_metrics}')"
   ]
  },
  {
   "cell_type": "markdown",
   "id": "3da87831",
   "metadata": {},
   "source": [
    "It is immediately apparent that convergence occurs toward very low values of lambda and learning rate, while the number of iterations settles on an intermediate value. Given the probable noise introduced by the reduced number of folds, a cautious approach is required to explore the parameter neighborhood."
   ]
  },
  {
   "cell_type": "code",
   "execution_count": null,
   "id": "b7299edd",
   "metadata": {},
   "outputs": [],
   "source": [
    "lr_param_grid = {\n",
    "        'n_iters': [50, 150],\n",
    "        'lambda_param' : [1e-2, 1e-4],\n",
    "        'learning_rate' : [1e-2, 1e-4]\n",
    "    }\n",
    "\n",
    "lr_best_params, lr_best_metrics = grid_search_cv(LogisticRegression, lr_param_grid, X_train, y_train, 5)\n",
    "print(f'Logistic Regression best parameter: {lr_best_params}')\n",
    "print(f'Logistic Regression best metrics: {lr_best_metrics}')"
   ]
  },
  {
   "cell_type": "markdown",
   "id": "481a30d6",
   "metadata": {},
   "source": [
    "It is notable that the model does not necessarily tend toward high iteration values, indicating that convergence likely occurs rapidly. This phenomenon will be more readily observable through the examination of learning curves."
   ]
  },
  {
   "cell_type": "markdown",
   "id": "178739aa",
   "metadata": {},
   "source": [
    "Utilizing the optimal parameters from previous trials, the number of folds will be doubled to reduce noise and identify robust hyperparameter values."
   ]
  },
  {
   "cell_type": "code",
   "execution_count": null,
   "id": "9b931e37",
   "metadata": {},
   "outputs": [],
   "source": [
    "lr_param_grid = {\n",
    "        'n_iters': [50, 100],\n",
    "        'lambda_param' : [1e-3, 1e-4],\n",
    "        'learning_rate' : [1e-2, 1e-3]\n",
    "    }\n",
    "\n",
    "lr_best_params, lr_best_metrics = grid_search_cv(LogisticRegression, lr_param_grid, X_train, y_train, 10)\n",
    "print(f'Logistic Regression best parameter: {lr_best_params}')\n",
    "print(f'Logistic Regression best metrics: {lr_best_metrics}')"
   ]
  },
  {
   "cell_type": "code",
   "execution_count": null,
   "id": "e235fde7",
   "metadata": {},
   "outputs": [],
   "source": [
    "lr_param_grid = {\n",
    "        'n_iters': [50, 100],\n",
    "        'lambda_param' : [1e-4, 1e-5, 1e-6],\n",
    "        'learning_rate' : [1e-3]\n",
    "    }\n",
    "\n",
    "lr_best_params, lr_best_metrics = grid_search_cv(LogisticRegression, lr_param_grid, X_train, y_train, 10)\n",
    "print(f'Logistic Regression best parameter: {lr_best_params}')\n",
    "print(f'Logistic Regression best metrics: {lr_best_metrics}')"
   ]
  },
  {
   "cell_type": "markdown",
   "id": "cb0bf996",
   "metadata": {},
   "source": [
    "Due to time constraints, the hyperparameters are manually assigned to variables; however, the grid search procedure remains fully reproducible."
   ]
  },
  {
   "cell_type": "code",
   "execution_count": null,
   "id": "e77b38a5",
   "metadata": {},
   "outputs": [],
   "source": [
    "lr_n_iters = 50\n",
    "lr_lambda_param = 1e-5\n",
    "lr_learning_rate = 1e-3"
   ]
  },
   ]
  }
 ],
 "metadata": {
  "kernelspec": {
   "display_name": ".venv",
   "language": "python",
   "name": "python3"
  },
  "language_info": {
   "codemirror_mode": {
    "name": "ipython",
    "version": 3
   },
   "file_extension": ".py",
   "mimetype": "text/x-python",
   "name": "python",
   "nbconvert_exporter": "python",
   "pygments_lexer": "ipython3",
   "version": "3.13.3"
  }
 },
 "nbformat": 4,
 "nbformat_minor": 5
}
